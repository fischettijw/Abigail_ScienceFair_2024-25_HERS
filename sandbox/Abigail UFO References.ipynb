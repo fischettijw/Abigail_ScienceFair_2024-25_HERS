{
 "cells": [
  {
   "cell_type": "markdown",
   "metadata": {},
   "source": [
    "[Kaggle UFO Datasets](https://www.kaggle.com/datasets?search=UFO)\n",
    "\n",
    "[UFO Sightings (Approx. 90,000)](https://www.kaggle.com/datasets/rishidamarla/ufo-sightings-approx-100000)\n",
    "\n",
    "[National UFO Reporting Center, Davenport, WA](https://nuforc.org/)\n",
    "\n",
    "[The Early Years of NUFORC](https://nuforc.org/gribble/)\n",
    "\n",
    "[3D World Map - UFO Sightings  (National UFO Reporting Center, Davenport, WA)](https://nuforc.org/map/)\n",
    "\n",
    "[Project Blue Book: FBI Vault](https://vault.fbi.gov/Project%20Blue%20Book%20(UFO)%20)\n",
    "\n",
    "[Project Blue Book, complete status reports - PDF (707 pages)](Project_Blue_Book,_complete_status_reports.pdf)\n",
    "\n",
    "[Military Records Research > Air Force Records > Project BLUE BOOK - Unidentified Flying Objects](https://www.archives.gov/research/military/air-force/ufos#usafac)\n",
    "\n",
    "[Generating WordClouds in Python Tutorial](https://www.datacamp.com/tutorial/wordcloud-python)\n",
    "\n",
    "[Create Fancy Word Clouds in Python](https://www.youtube.com/watch?v=vRbSnlRyJNQ)\n",
    "\n",
    "[Unidentified Flying Objects and Air Force Project Blue Book](https://www.af.mil/About-Us/Fact-Sheets/Display/Article/104590/unidentified-flying-objects-and-air-force-project-blue-book/)\n",
    "\n",
    "[Ancient cave paintings of aliens and UFO](https://www.craiyon.com/image/kv78Jr5ZS6KRu7kvBLI1EQ)\n",
    "\n",
    "[Skeptic's Dictionary: Ancient Astronauts](https://skepdic.com/vondanik.html)\n"
   ]
  }
 ],
 "metadata": {
  "language_info": {
   "name": "python"
  }
 },
 "nbformat": 4,
 "nbformat_minor": 2
}
